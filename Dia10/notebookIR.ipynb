{
 "cells": [
  {
   "cell_type": "markdown",
   "metadata": {},
   "source": [
    "### Mi primer Jupyter Notebook"
   ]
  },
  {
   "cell_type": "markdown",
   "metadata": {},
   "source": [
    "Ejercicio 1"
   ]
  },
  {
   "cell_type": "code",
   "execution_count": 8,
   "metadata": {},
   "outputs": [],
   "source": [
    "lista = [10,20,30,40,50]"
   ]
  },
  {
   "cell_type": "code",
   "execution_count": 9,
   "metadata": {},
   "outputs": [
    {
     "name": "stdout",
     "output_type": "stream",
     "text": [
      "10\n",
      "20\n",
      "30\n",
      "40\n",
      "50\n"
     ]
    }
   ],
   "source": [
    "for number in lista:\n",
    "    print (number)"
   ]
  },
  {
   "cell_type": "markdown",
   "metadata": {},
   "source": [
    "Ejercicio 2"
   ]
  },
  {
   "cell_type": "markdown",
   "metadata": {},
   "source": [
    "Materias    | Evaluación1 | Evaluación2 | Evaluación3\n",
    "----------- | ----------- |------------ | ------------\n",
    "Algoritmos  | 15 | 15 | 15\n",
    "Estadística | 18 | 18 | 18"
   ]
  },
  {
   "cell_type": "markdown",
   "metadata": {},
   "source": [
    "Ejercicio 3"
   ]
  },
  {
   "cell_type": "code",
   "execution_count": 15,
   "metadata": {},
   "outputs": [],
   "source": [
    "import requests"
   ]
  },
  {
   "cell_type": "code",
   "execution_count": 17,
   "metadata": {},
   "outputs": [
    {
     "name": "stdout",
     "output_type": "stream",
     "text": [
      "{'number': 10, 'people': [{'name': 'Sergey Prokopyev', 'craft': 'ISS'}, {'name': 'Dmitry Petelin', 'craft': 'ISS'}, {'name': 'Frank Rubio', 'craft': 'ISS'}, {'name': 'Stephen Bowen', 'craft': 'ISS'}, {'name': 'Warren Hoburg', 'craft': 'ISS'}, {'name': 'Sultan Alneyadi', 'craft': 'ISS'}, {'name': 'Andrey Fedyaev', 'craft': 'ISS'}, {'name': 'Jing Haiping', 'craft': 'Tiangong'}, {'name': 'Gui Haichow', 'craft': 'Tiangong'}, {'name': 'Zhu Yangzhu', 'craft': 'Tiangong'}], 'message': 'success'}\n"
     ]
    }
   ],
   "source": [
    "url = \"http://api.open-notify.org/astros.json\"\n",
    "response = requests.get(url)\n",
    "data = response.json()\n",
    "print(data)"
   ]
  },
  {
   "cell_type": "code",
   "execution_count": 24,
   "metadata": {},
   "outputs": [
    {
     "data": {
      "text/plain": [
       "{'number': 10,\n",
       " 'people': [{'name': 'Sergey Prokopyev', 'craft': 'ISS'},\n",
       "  {'name': 'Dmitry Petelin', 'craft': 'ISS'},\n",
       "  {'name': 'Frank Rubio', 'craft': 'ISS'},\n",
       "  {'name': 'Stephen Bowen', 'craft': 'ISS'},\n",
       "  {'name': 'Warren Hoburg', 'craft': 'ISS'},\n",
       "  {'name': 'Sultan Alneyadi', 'craft': 'ISS'},\n",
       "  {'name': 'Andrey Fedyaev', 'craft': 'ISS'},\n",
       "  {'name': 'Jing Haiping', 'craft': 'Tiangong'},\n",
       "  {'name': 'Gui Haichow', 'craft': 'Tiangong'},\n",
       "  {'name': 'Zhu Yangzhu', 'craft': 'Tiangong'}],\n",
       " 'message': 'success'}"
      ]
     },
     "execution_count": 24,
     "metadata": {},
     "output_type": "execute_result"
    }
   ],
   "source": [
    "data"
   ]
  },
  {
   "cell_type": "code",
   "execution_count": 31,
   "metadata": {},
   "outputs": [
    {
     "name": "stdout",
     "output_type": "stream",
     "text": [
      "number\n",
      "people\n",
      "message\n"
     ]
    }
   ],
   "source": [
    "for item in data:\n",
    "    print (item)"
   ]
  },
  {
   "cell_type": "code",
   "execution_count": 36,
   "metadata": {},
   "outputs": [
    {
     "name": "stdout",
     "output_type": "stream",
     "text": [
      "Sergey Prokopyev ISS\n",
      "Dmitry Petelin ISS\n",
      "Frank Rubio ISS\n",
      "Stephen Bowen ISS\n",
      "Warren Hoburg ISS\n",
      "Sultan Alneyadi ISS\n",
      "Andrey Fedyaev ISS\n",
      "Jing Haiping Tiangong\n",
      "Gui Haichow Tiangong\n",
      "Zhu Yangzhu Tiangong\n"
     ]
    }
   ],
   "source": [
    "for person in data[\"people\"]:\n",
    "    print(person[\"name\"], person['craft'])"
   ]
  }
 ],
 "metadata": {
  "kernelspec": {
   "display_name": "Python 3",
   "language": "python",
   "name": "python3"
  },
  "language_info": {
   "codemirror_mode": {
    "name": "ipython",
    "version": 3
   },
   "file_extension": ".py",
   "mimetype": "text/x-python",
   "name": "python",
   "nbconvert_exporter": "python",
   "pygments_lexer": "ipython3",
   "version": "3.10.5"
  },
  "orig_nbformat": 4
 },
 "nbformat": 4,
 "nbformat_minor": 2
}
